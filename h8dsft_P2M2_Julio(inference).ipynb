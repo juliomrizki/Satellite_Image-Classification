{
 "cells": [
  {
   "attachments": {},
   "cell_type": "markdown",
   "metadata": {},
   "source": [
    "# Milestone 2, Phase 2 (Inference Notebook)\n",
    "\n",
    "`Julio Muhammad Rizki, FTDS Batch 003-HCK`"
   ]
  },
  {
   "cell_type": "code",
   "execution_count": 1,
   "metadata": {},
   "outputs": [],
   "source": [
    "import pandas as pd\n",
    "import numpy as np\n",
    "import tensorflow as tf\n",
    "import warnings\n",
    "warnings.filterwarnings(action='ignore')"
   ]
  },
  {
   "cell_type": "code",
   "execution_count": 2,
   "metadata": {},
   "outputs": [],
   "source": [
    "model = tf.keras.models.load_model('model_tuned.h5')"
   ]
  },
  {
   "cell_type": "code",
   "execution_count": 3,
   "metadata": {},
   "outputs": [
    {
     "name": "stdout",
     "output_type": "stream",
     "text": [
      "Found 8 files belonging to 10 classes.\n"
     ]
    }
   ],
   "source": [
    "data = tf.keras.preprocessing.image_dataset_from_directory(\n",
    "    \"D:\\Hacktiv8\\Milestone\\p2---ftds-003-hck--m2-juliomrizki\\Inference\\Inference\",\n",
    "    label_mode = 'categorical',\n",
    "    color_mode= 'rgb',\n",
    "    shuffle = True,\n",
    "    image_size = (64,64),\n",
    "    # batch_size = BATCH_SIZE   \n",
    ")"
   ]
  },
  {
   "cell_type": "code",
   "execution_count": 4,
   "metadata": {},
   "outputs": [],
   "source": [
    "def resize_and_rescale(image):\n",
    "  image = tf.image.resize(image, [64, 64])\n",
    "  image = tf.divide(image, 255.)\n",
    "  return image\n",
    "\n",
    "data_inf = data.map(lambda x, y: (resize_and_rescale(x), y))"
   ]
  },
  {
   "cell_type": "code",
   "execution_count": 5,
   "metadata": {},
   "outputs": [
    {
     "name": "stdout",
     "output_type": "stream",
     "text": [
      "1/1 [==============================] - 1s 1s/step\n"
     ]
    }
   ],
   "source": [
    "inference = model.predict(data)"
   ]
  },
  {
   "cell_type": "code",
   "execution_count": 6,
   "metadata": {},
   "outputs": [],
   "source": [
    "class_names = ['AnnualCrop',\n",
    " 'Forest',\n",
    " 'HerbaceousVegetation',\n",
    " 'Highway',\n",
    " 'Industrial',\n",
    " 'Pasture',\n",
    " 'PermanentCrop',\n",
    " 'Residential',\n",
    " 'River',\n",
    " 'SeaLake']"
   ]
  },
  {
   "cell_type": "code",
   "execution_count": 7,
   "metadata": {},
   "outputs": [],
   "source": [
    "predictions = []\n",
    "\n",
    "for i in inference:\n",
    "    predictions.append(class_names[np.argmax(i)])"
   ]
  },
  {
   "cell_type": "code",
   "execution_count": 8,
   "metadata": {},
   "outputs": [
    {
     "data": {
      "text/plain": [
       "['SeaLake',\n",
       " 'Industrial',\n",
       " 'Industrial',\n",
       " 'Industrial',\n",
       " 'SeaLake',\n",
       " 'SeaLake',\n",
       " 'Industrial',\n",
       " 'Industrial']"
      ]
     },
     "execution_count": 8,
     "metadata": {},
     "output_type": "execute_result"
    }
   ],
   "source": [
    "predictions"
   ]
  },
  {
   "attachments": {},
   "cell_type": "markdown",
   "metadata": {},
   "source": [
    "Ada kesalahan pada pembuatan notebook inference yang menyebabkan evaluate dan predict menghasilkan nilai prediksi yang salah."
   ]
  }
 ],
 "metadata": {
  "kernelspec": {
   "display_name": "tf",
   "language": "python",
   "name": "python3"
  },
  "language_info": {
   "codemirror_mode": {
    "name": "ipython",
    "version": 3
   },
   "file_extension": ".py",
   "mimetype": "text/x-python",
   "name": "python",
   "nbconvert_exporter": "python",
   "pygments_lexer": "ipython3",
   "version": "3.9.16"
  },
  "orig_nbformat": 4,
  "vscode": {
   "interpreter": {
    "hash": "8ae0d3df57dd649ce929993d9124be63bfc939f2e347f2ea0b3119ec9ef69776"
   }
  }
 },
 "nbformat": 4,
 "nbformat_minor": 2
}
